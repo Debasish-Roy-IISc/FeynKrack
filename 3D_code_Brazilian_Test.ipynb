{
 "cells": [
  {
   "cell_type": "code",
   "execution_count": null,
   "id": "28f4a299",
   "metadata": {},
   "outputs": [],
   "source": [
    "using Gridap        \n",
    "using GridapGmsh\n",
    "using Gridap.Geometry\n",
    "using Gridap.TensorValues\n",
    "using Plots\n",
    "using LinearAlgebra\n",
    "using  Gridap.Fields\n",
    "using  Gridap.CellData\n",
    "using  Gridap.ReferenceFEs  \n",
    "using  Gridap.Fields\n",
    "using Random\n",
    "using LinearAlgebra\n",
    "using Gridap.Arrays\n",
    "using Gridap.CellData\n",
    "using Base.Iterators"
   ]
  },
  {
   "cell_type": "code",
   "execution_count": null,
   "id": "dd2b0439",
   "metadata": {},
   "outputs": [],
   "source": [
    "model = GmshDiscreteModel(\"BrazilianDisk.msh\")\n",
    "writevtk(model,\"BrazilianDisk\")"
   ]
  },
  {
   "cell_type": "code",
   "execution_count": null,
   "id": "5194c189",
   "metadata": {},
   "outputs": [],
   "source": [
    "const E = 15000\n",
    "const ν = 0.21 \n",
    "const G = E/(2*(1+ν))\n",
    "const λ_ps = (E*ν)/((1+ν)*(1-2*ν)) # plane strain\n",
    "const μ = G\n",
    "const λ = λ_ps*(2*μ/(λ_ps+2*μ))\n",
    "const G0 = 1.0\n",
    "const fₜ = 3.81\n",
    "r = 1.2"
   ]
  },
  {
   "cell_type": "code",
   "execution_count": null,
   "id": "21a5ed32",
   "metadata": {},
   "outputs": [],
   "source": [
    "labels = get_face_labeling(model)"
   ]
  },
  {
   "cell_type": "code",
   "execution_count": null,
   "id": "7e9da750",
   "metadata": {},
   "outputs": [],
   "source": [
    "order = 1\n",
    "reffe = ReferenceFE(lagrangian,VectorValue{3,Float64},order)\n",
    "V = TestFESpace(model,reffe;\n",
    "          conformity=:H1,\n",
    "          dirichlet_tags=[\"BottomSurf\",\"TopSurf\"],\n",
    "          dirichlet_masks=[(true,true,true),(true,true,true)])\n",
    "uh = zero(V)"
   ]
  },
  {
   "cell_type": "code",
   "execution_count": null,
   "id": "f1a6d055",
   "metadata": {},
   "outputs": [],
   "source": [
    "order = 1\n",
    "reffeG = ReferenceFE(lagrangian,VectorValue{1,Float64},order)\n",
    "VG = TestFESpace(model,reffeG;\n",
    "          conformity=:H1)\n",
    "\n",
    "order = 1\n",
    "reffephi  = ReferenceFE(lagrangian,Float64,order)\n",
    "Vphi  = TestFESpace(model,reffephi;\n",
    "          conformity=:H1)\n",
    "f_new = 1.0"
   ]
  },
  {
   "cell_type": "code",
   "execution_count": null,
   "id": "22519071",
   "metadata": {},
   "outputs": [],
   "source": [
    "degree = 2\n",
    "Ω = Triangulation(model)\n",
    "dΩ = Measure(Ω,degree)"
   ]
  },
  {
   "cell_type": "code",
   "execution_count": null,
   "id": "6fe57b6c",
   "metadata": {},
   "outputs": [],
   "source": [
    "LoadTagId = get_tag_from_name(labels,\"BottomSurf\")\n",
    "Γ_Load = BoundaryTriangulation(model,tags = LoadTagId)\n",
    "dΓ_Load = Measure(Γ_Load,degree)\n",
    "n_Γ_Load = get_normal_vector(Γ_Load)"
   ]
  },
  {
   "cell_type": "code",
   "execution_count": null,
   "id": "73ecc4eb",
   "metadata": {},
   "outputs": [],
   "source": [
    "Gr = get_grid(model)\n",
    "nodes = get_node_coordinates(Gr)\n",
    "Nₑ = num_cells(model)\n",
    "Nₙ = num_nodes(model)\n",
    "nodeCoordX = [nodes[i][1] for i in 1:Nₙ]\n",
    "nodeCoordY = [nodes[i][2] for i in 1:Nₙ]\n",
    "nodeCoordZ = [nodes[i][3] for i in 1:Nₙ]\n",
    "elem = get_cell_node_ids(Gr)\n",
    "Inter = L/2000"
   ]
  },
  {
   "cell_type": "code",
   "execution_count": null,
   "id": "2cded289",
   "metadata": {},
   "outputs": [],
   "source": [
    "function nonlocalfield(Gk_nds,t)   \n",
    "\n",
    "ϕVec_st = zeros(Nₙ)\n",
    "\n",
    "Threads.@threads for nd_id in 1:Nₙ\n",
    "              ϕVec_st[nd_id] =  exp(-(Gk_nds[nd_id])*(t[nd_id]))\n",
    "    end\n",
    "    \n",
    "ϕVec_st_proj = (FEFunction(Vphi,ϕVec_st))\n",
    "    \n",
    "    return ϕVec_st_proj\n",
    "end"
   ]
  },
  {
   "cell_type": "code",
   "execution_count": null,
   "id": "900cd4f2",
   "metadata": {},
   "outputs": [],
   "source": [
    "using NearestNeighbors\n",
    "data = zeros(3,Nₙ)\n",
    "data[1,:] =nodeCoordX\n",
    "data[2,:] =nodeCoordY\n",
    "data[3,:] =nodeCoordZ\n",
    "points = data\n",
    "\n",
    "balltree = BallTree(data)\n",
    "idxs = inrange(balltree, points, r, true)"
   ]
  },
  {
   "cell_type": "code",
   "execution_count": null,
   "id": "b5d7363b",
   "metadata": {},
   "outputs": [],
   "source": [
    "function nonLocalGk(G_k_prev,t_k_prev)\n",
    "GkVec = evaluate(G_k_prev,x_S)\n",
    "TkVec = evaluate(t_k_prev,x_S)\n",
    "caches = [array_cache(GkVec) for k in 1:Threads.nthreads()]\n",
    "caches_T = [array_cache(TkVec) for k in 1:Threads.nthreads()]\n",
    "Gk_nds = zeros(Nₙ)\n",
    "Tk_nds = zeros(Nₙ)\n",
    "Threads.@threads for iel in 1:Nₑ\n",
    "    cache = caches[Threads.threadid()]\n",
    "    cache_T = caches_T[Threads.threadid()]\n",
    "      ElNdInd = elem[iel]\n",
    "    Gk_nds[ElNdInd] = (getindex!(cache,GkVec,iel)).*(ones(4))\n",
    "        Tk_nds[ElNdInd] = (getindex!(cache_T,TkVec,iel)).*(ones(4))\n",
    "end\n",
    "\n",
    "Gk_nds_NL = zeros(Nₙ)\n",
    "   Threads.@threads for nd_id in 1:Nₙ\n",
    "        NeighHood = idxs[nd_id]\n",
    "        Gk_nds_NL[nd_id] = sum(Gk_nds[NeighHood]) / length(NeighHood)\n",
    "    end\n",
    "    return Gk_nds_NL,Tk_nds\n",
    "    end"
   ]
  },
  {
   "cell_type": "code",
   "execution_count": null,
   "id": "27c03d76",
   "metadata": {},
   "outputs": [],
   "source": [
    "px = get_physical_coordinate(Ω)\n",
    "Qₕ = CellQuadrature(Ω,1)\n",
    "Qₕ_cell_point = get_cell_points(Qₕ)\n",
    "dΩ_ro = Measure(Ω,1)\n",
    "x_S = get_cell_points(dΩ_ro)"
   ]
  },
  {
   "cell_type": "code",
   "execution_count": null,
   "id": "1b768b94",
   "metadata": {},
   "outputs": [],
   "source": [
    "qₖ = get_data(Qₕ_cell_point)"
   ]
  },
  {
   "cell_type": "code",
   "execution_count": null,
   "id": "d915f07c",
   "metadata": {},
   "outputs": [],
   "source": [
    "σ(ε_nl) =  λ*tr(ε_nl)*one(ε_nl) + 2*μ*ε_nl"
   ]
  },
  {
   "cell_type": "code",
   "execution_count": null,
   "id": "6784bd4c",
   "metadata": {},
   "outputs": [],
   "source": [
    "function G_kill(σ_eq,dot_σ_eq)\n",
    " G_kill = 0.25*G0.*(( (σ_eq./fₜ -1)+ abs∘(σ_eq./fₜ - 1))).*((dot_σ_eq)+ abs∘(dot_σ_eq))\n",
    "    return G_kill\n",
    "end"
   ]
  },
  {
   "cell_type": "code",
   "execution_count": null,
   "id": "370a21c6",
   "metadata": {},
   "outputs": [],
   "source": [
    "function new_EnergyState(ψPlusPrev_in,t_s_in,ψhPos_in)\n",
    "    ψPlus_in = ψhPos_in\n",
    "    if ψPlus_in <= ψPlusPrev_in\n",
    "        ψPlus_out = ψPlusPrev_in \n",
    "         tPlus_out = t_s_in\n",
    "        damaged = false\n",
    "    else\n",
    "        ψPlus_out = ψPlus_in\n",
    "        tPlus_out = T\n",
    "        damaged = true\n",
    "    end\n",
    "    damaged, ψPlus_out, tPlus_out   \n",
    "end"
   ]
  },
  {
   "cell_type": "code",
   "execution_count": null,
   "id": "b5ad984d",
   "metadata": {},
   "outputs": [],
   "source": [
    "function project(q,model,dΩ,order)\n",
    "  reffe = ReferenceFE(lagrangian,Float64,order)\n",
    "  V = FESpace(model,reffe,conformity=:L2)\n",
    "  a(u,v) = ∫( u*v )*dΩ\n",
    "  l(v) = ∫( v*q )*dΩ\n",
    "  op = AffineFEOperator(a,l,V,V)\n",
    "  qh = solve(op)\n",
    "  qh\n",
    "end"
   ]
  },
  {
   "cell_type": "code",
   "execution_count": null,
   "id": "4236818a",
   "metadata": {},
   "outputs": [],
   "source": [
    "function σ_eq(ε, ε_nl)\n",
    "    εArray, εArray_nl = get_array.((ε, ε_nl))\n",
    "    Λ, P = eigen(εArray)\n",
    "    Λ_nl, P_nl = eigen(εArray_nl)\n",
    "\n",
    "   \n",
    "    Λpos = diagm(0 => max.(0, Λ))\n",
    "    Λpos_nl = diagm(0 => max.(0, Λ_nl))\n",
    "\n",
    "    \n",
    "    εPos = TensorValue(P * Λpos * P')\n",
    "    εPos_nl = TensorValue(P_nl * Λpos_nl * P_nl')\n",
    "\n",
    "    \n",
    "    ψPos = 0.5 * ((tr(ε) >= 0) * (λ * tr(ε) * tr(ε_nl)) +  2μ * (εPos ⊙ εPos_nl))\n",
    "\n",
    "    return √(2 * ψPos * E)\n",
    "end"
   ]
  },
  {
   "cell_type": "code",
   "execution_count": null,
   "id": "cb8a15e6",
   "metadata": {},
   "outputs": [],
   "source": [
    "function step_disp(uApp,dot_σ_eq,t_cell,uh,G_k_cell,ϕ)\n",
    "uApp1(x) = VectorValue(0.0,uApp,0.0) \n",
    "uApp2(x) = VectorValue(0.0,-uApp,0.0) \n",
    "U = TrialFESpace(V,[uApp1,uApp2])\n",
    "σ_eq_s = σ_eq∘((ε(uh)),(ε(uh))*ϕ)\n",
    "G_k_in = G_kill(σ_eq_s,dot_σ_eq)\n",
    "update_state!(new_EnergyState,G_k_cell,t_cell,G_k_in)\n",
    "G_k_nd_nl,t_nds = nonLocalGk(G_k_cell,t_cell)\n",
    "ϕ = (nonlocalfield(G_k_nd_nl,t_nds)) \n",
    "a(u,v) = ∫( ε(v) ⊙ (σ∘((ε(u))*(ϕ+1e-6)) ))*dΩ\n",
    "l(v) = 0.0\n",
    "op = AffineFEOperator(a,l,U,V)\n",
    "ls = LUSolver()\n",
    "solver = LinearFESolver(ls)\n",
    "uh = solve(solver,op)\n",
    "    return uh, ϕ, G_k_cell, t_cell, G_k_nd_nl, t_nds \n",
    "end"
   ]
  },
  {
   "cell_type": "code",
   "execution_count": null,
   "id": "79b85675",
   "metadata": {},
   "outputs": [],
   "source": [
    "cd(\"BrazilianDisk\")"
   ]
  },
  {
   "cell_type": "code",
   "execution_count": null,
   "id": "a1e17d24",
   "metadata": {},
   "outputs": [],
   "source": [
    "Tmax = 0.3\n",
    "delT = 3e-4\n",
    "vApp = 1.0\n",
    "count_n = 0\n",
    "T = 0.00001\n",
    "Load = Float64[]\n",
    "Displacement = Float64[]\n",
    "push!(Load, 0.0)\n",
    "push!(Displacement, 0.0)\n",
    "G_k_cell = CellState(0.0,dΩ_ro)\n",
    "t_cell = CellState(T,dΩ_ro)\n",
    "uh_prev = zero(V)\n",
    "uh_in_FE = uh\n",
    "ϕ_prev = interpolate_everywhere(f_new,Vphi)\n",
    "ϕ = interpolate_everywhere(f_new,Vphi)\n",
    "innerMax = 50\n",
    "dot_σ_eq = (σ_eq∘(ε(uh),(ε(uh))) - σ_eq∘(ε(uh_in_FE),(ε(uh_in_FE))))./delT\n",
    "σ_eq_s = σ_eq∘(ε(uh),(ε(uh)))\n",
    "G_k_nd_nl,t_nds = nonLocalGk(G_k_cell,t_cell)\n",
    "ϕ = (nonlocalfield(G_k_nd_nl,t_nds))\n",
    "while T <= Tmax\n",
    "    count_n = count_n + 1\n",
    "if T >= 0.02\n",
    "        delT = 6e-5\n",
    "    end\n",
    "T = T + delT\n",
    "uApp  = T*vApp\n",
    "    print(\"\\n Entering displacemtent step :\", float(uApp))\n",
    " for inner = 1:innerMax\n",
    "uh,ϕ,G_k_cell,t_cell,G_k_nd_nl,t_nds=  step_disp(uApp,dot_σ_eq,t_cell,uh,G_k_cell,ϕ)\n",
    "e = uh - uh_in_FE\n",
    "dot_σ_eq = (σ_eq∘(ε(uh),(ε(uh))*(ϕ+1e-6)))./T\n",
    "err = sqrt(sum( ∫( e⊙e )*dΩ ))\n",
    "ϕ_prev = ϕ\n",
    "uh_in_FE = uh\n",
    "print(\"\\n error = \",float(err))\n",
    "        if err < 1e-8\n",
    "            break \n",
    "        end  \n",
    "    end\n",
    "Node_Force = sum(∫( n_Γ_Load ⋅ (σ∘( (ε(uh))*ϕ) )) *dΓ_Load)\n",
    "push!(Load, abs(Node_Force[2]))\n",
    "push!(Displacement, uApp)\n",
    "\n",
    "tVec_st_proj = (FEFunction(Vphi,t_nds))  \n",
    "G_k = (FEFunction(Vphi,G_k_nd_nl))\n",
    "    if mod(count_n,5) == 0\n",
    "writevtk(Ω,\"results_NonLocal_$count_n\",cellfields=[\"disp\"=>uh,\"phi\"=>ϕ,\"sig\"=>σ_eq∘(ε(uh),(ε(uh))*ϕ)])   \n",
    "    end\n",
    "    end"
   ]
  }
 ],
 "metadata": {
  "kernelspec": {
   "display_name": "Julia 1.7.2",
   "language": "julia",
   "name": "julia-1.7"
  },
  "language_info": {
   "file_extension": ".jl",
   "mimetype": "application/julia",
   "name": "julia",
   "version": "1.7.2"
  }
 },
 "nbformat": 4,
 "nbformat_minor": 5
}
